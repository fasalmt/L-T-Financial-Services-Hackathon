{
 "cells": [
  {
   "cell_type": "code",
   "execution_count": 1,
   "metadata": {},
   "outputs": [],
   "source": [
    "# imports\n",
    "import pandas as pd\n",
    "import re\n",
    "from sklearn.feature_extraction.text import CountVectorizer\n",
    "import lightgbm as lgb\n",
    "from sklearn.preprocessing import LabelEncoder\n",
    "import hyperopt\n",
    "from hyperopt import hp, tpe, STATUS_OK, Trials\n",
    "import numpy as np\n",
    "from sklearn.model_selection import StratifiedKFold,TimeSeriesSplit\n",
    "import pickle\n",
    "from category_encoders import TargetEncoder\n",
    "import seaborn as sns\n",
    "import matplotlib.pyplot as plt\n",
    "import matplotlib\n",
    "pd.set_option('display.max_rows', 70)\n",
    "pd.set_option('display.max_columns', 70)"
   ]
  },
  {
   "cell_type": "code",
   "execution_count": 2,
   "metadata": {},
   "outputs": [],
   "source": [
    "# read traiining file\n",
    "train=pd.read_csv('train.csv')"
   ]
  },
  {
   "cell_type": "code",
   "execution_count": 3,
   "metadata": {},
   "outputs": [],
   "source": [
    "# function to extract correct values from account age and credit history length\n",
    "def clean_df(val):\n",
    "    extractedvals=re.findall('\\d+',val)\n",
    "    finalval=float(extractedvals[0])+float(float(extractedvals[1])/12)\n",
    "    return finalval\n",
    "train['avgaccage']=train['AVERAGE.ACCT.AGE'].apply(clean_df)\n",
    "train['credhistlength']=train['CREDIT.HISTORY.LENGTH'].apply(clean_df)"
   ]
  },
  {
   "cell_type": "code",
   "execution_count": 4,
   "metadata": {},
   "outputs": [],
   "source": [
    "# add age as a feature\n",
    "train['Date.of.Birth']=pd.to_datetime(train['Date.of.Birth'])\n",
    "train['DisbursalDate']=pd.to_datetime(train['DisbursalDate'])\n",
    "train['Age']=abs(train['DisbursalDate'].dt.year-train['Date.of.Birth'].dt.year)"
   ]
  },
  {
   "cell_type": "code",
   "execution_count": 5,
   "metadata": {},
   "outputs": [],
   "source": [
    "# categorical columns for lightgbm\n",
    "catcols=['branch_id','State_ID','Current_pincode_ID','Aadhar_flag','MobileNo_Avl_Flag','PAN_flag','VoterID_flag','Driving_flag', 'supplier_id', 'manufacturer_id','Employment.Type','Employee_code_ID']"
   ]
  },
  {
   "cell_type": "code",
   "execution_count": 6,
   "metadata": {},
   "outputs": [],
   "source": [
    "# encode employment type\n",
    "lb=LabelEncoder()\n",
    "train['Employment.Type']=lb.fit_transform(train['Employment.Type'].astype(str))"
   ]
  },
  {
   "cell_type": "code",
   "execution_count": 7,
   "metadata": {},
   "outputs": [],
   "source": [
    "# add ratio based features\n",
    "train['sanctioned']=(train['ltv']/100)*train['asset_cost']\n",
    "train['ratio1']=train['disbursed_amount']/train['sanctioned']\n",
    "train['ratio2']=train['PRI.DISBURSED.AMOUNT']/train['PRI.SANCTIONED.AMOUNT']\n",
    "train['ratio3']=train['SEC.DISBURSED.AMOUNT']/train['SEC.SANCTIONED.AMOUNT']\n",
    "train['ratio4']=train['PRI.OVERDUE.ACCTS']/train['PRI.NO.OF.ACCTS']\n",
    "train['ratio5']=train['PRI.ACTIVE.ACCTS']/train['PRI.NO.OF.ACCTS']\n",
    "train['ratio6']=train['PRI.CURRENT.BALANCE']/train['PRI.DISBURSED.AMOUNT']\n",
    "train['ratio7']=train['PRIMARY.INSTAL.AMT']/train['PRI.DISBURSED.AMOUNT']"
   ]
  },
  {
   "cell_type": "code",
   "execution_count": 8,
   "metadata": {},
   "outputs": [],
   "source": [
    "# add groupby features\n",
    "dff=train.groupby(['Current_pincode_ID','State_ID'])['PERFORM_CNS.SCORE'].agg(['mean','count']).reset_index()\n",
    "final=train.merge(dff,on=['Current_pincode_ID','State_ID'],how='left')\n",
    "ltvf=final.groupby(['Current_pincode_ID','State_ID'])['ratio1'].agg(['mean']).reset_index()\n",
    "ltvf.columns=['Current_pincode_ID','State_ID','mean_ratio1']\n",
    "ffinal=final.merge(ltvf,on=['Current_pincode_ID','State_ID'],how='left')"
   ]
  },
  {
   "cell_type": "code",
   "execution_count": 9,
   "metadata": {},
   "outputs": [],
   "source": [
    "# add feature to check for errors in dob data\n",
    "ffinal['dayofbirth']=ffinal['Date.of.Birth'].dt.day\n",
    "ffinal['monthofbirth']=ffinal['Date.of.Birth'].dt.month\n",
    "errorindob=[]\n",
    "for i in range(ffinal.shape[0]):\n",
    "    if ffinal['dayofbirth'][i]==1 and ffinal['monthofbirth'][i]==1:\n",
    "        errorindob.append(1)\n",
    "    else:\n",
    "        errorindob.append(0)\n",
    "ffinal['errorindob']=errorindob"
   ]
  },
  {
   "cell_type": "code",
   "execution_count": 10,
   "metadata": {},
   "outputs": [],
   "source": [
    "# upload custom encoding for bureau score description\n",
    "mydict=pickle.load(open('encoded_dict','rb'))"
   ]
  },
  {
   "cell_type": "code",
   "execution_count": 11,
   "metadata": {},
   "outputs": [],
   "source": [
    "ffinal=ffinal.sort_values(by='DisbursalDate')"
   ]
  },
  {
   "cell_type": "code",
   "execution_count": 12,
   "metadata": {},
   "outputs": [],
   "source": [
    "X=ffinal[['disbursed_amount', 'asset_cost', 'ltv','PERFORM_CNS.SCORE','Current_pincode_ID','State_ID','Aadhar_flag','MobileNo_Avl_Flag','PAN_flag','VoterID_flag','Driving_flag','PRI.NO.OF.ACCTS', 'PRI.ACTIVE.ACCTS',\n",
    "       'PRI.OVERDUE.ACCTS', 'PRI.CURRENT.BALANCE', 'PRI.SANCTIONED.AMOUNT',\n",
    "       'PRI.DISBURSED.AMOUNT', 'SEC.NO.OF.ACCTS', 'SEC.ACTIVE.ACCTS',\n",
    "       'SEC.OVERDUE.ACCTS', 'SEC.CURRENT.BALANCE', 'SEC.SANCTIONED.AMOUNT',\n",
    "       'SEC.DISBURSED.AMOUNT', 'PRIMARY.INSTAL.AMT', 'SEC.INSTAL.AMT',\n",
    "       'NEW.ACCTS.IN.LAST.SIX.MONTHS', 'DELINQUENT.ACCTS.IN.LAST.SIX.MONTHS','branch_id',\n",
    "       'supplier_id', 'manufacturer_id','NO.OF_INQUIRIES','Employment.Type','Employee_code_ID','avgaccage','credhistlength','Age','ratio2','ratio3','ratio1','ratio4','ratio5','mean','count','PERFORM_CNS.SCORE.DESCRIPTION','ratio6','ratio7','mean_ratio1','errorindob']]\n",
    "Y=ffinal['loan_default']"
   ]
  },
  {
   "cell_type": "code",
   "execution_count": 13,
   "metadata": {},
   "outputs": [
    {
     "name": "stderr",
     "output_type": "stream",
     "text": [
      "/home/Mahir/anaconda3/lib/python3.7/site-packages/ipykernel_launcher.py:2: SettingWithCopyWarning: \n",
      "A value is trying to be set on a copy of a slice from a DataFrame.\n",
      "Try using .loc[row_indexer,col_indexer] = value instead\n",
      "\n",
      "See the caveats in the documentation: http://pandas.pydata.org/pandas-docs/stable/indexing.html#indexing-view-versus-copy\n",
      "  \n"
     ]
    }
   ],
   "source": [
    "# add custom ordinal encoding to bureau score description\n",
    "X['PERFORM_CNS.SCORE.DESCRIPTION']=[mydict[x] for x in X['PERFORM_CNS.SCORE.DESCRIPTION']]"
   ]
  },
  {
   "cell_type": "code",
   "execution_count": 14,
   "metadata": {},
   "outputs": [],
   "source": [
    "# use time series split\n",
    "skf = TimeSeriesSplit(n_splits=5)"
   ]
  },
  {
   "cell_type": "code",
   "execution_count": 15,
   "metadata": {
    "scrolled": true
   },
   "outputs": [
    {
     "name": "stderr",
     "output_type": "stream",
     "text": [
      "/home/Mahir/anaconda3/lib/python3.7/site-packages/lightgbm/basic.py:1205: UserWarning: Using categorical_feature in Dataset.\n",
      "  warnings.warn('Using categorical_feature in Dataset.')\n",
      "/home/Mahir/anaconda3/lib/python3.7/site-packages/lightgbm/basic.py:741: UserWarning: silent keyword has been found in `params` and will be ignored.\n",
      "Please use silent argument of the Dataset constructor to pass this parameter.\n",
      "  .format(key))\n"
     ]
    },
    {
     "name": "stdout",
     "output_type": "stream",
     "text": [
      "[10]\tcv_agg's auc: 0.619621 + 0.00716279\n",
      "[20]\tcv_agg's auc: 0.623767 + 0.00836742\n",
      "[30]\tcv_agg's auc: 0.623302 + 0.00795528\n",
      "[40]\tcv_agg's auc: 0.621332 + 0.00801849\n",
      "[50]\tcv_agg's auc: 0.623611 + 0.00780867\n",
      "[60]\tcv_agg's auc: 0.630665 + 0.00720427\n",
      "[70]\tcv_agg's auc: 0.631619 + 0.00792024\n",
      "[80]\tcv_agg's auc: 0.630798 + 0.00794337\n",
      "[90]\tcv_agg's auc: 0.632802 + 0.0076481\n",
      "[100]\tcv_agg's auc: 0.63476 + 0.00727411\n",
      "[110]\tcv_agg's auc: 0.63772 + 0.00724963\n",
      "[120]\tcv_agg's auc: 0.638067 + 0.00739097\n",
      "[130]\tcv_agg's auc: 0.639497 + 0.00715086\n",
      "[140]\tcv_agg's auc: 0.638593 + 0.00718564\n",
      "[150]\tcv_agg's auc: 0.63863 + 0.00671243\n",
      "[160]\tcv_agg's auc: 0.63941 + 0.00657279\n",
      "[170]\tcv_agg's auc: 0.639727 + 0.00657234\n",
      "[180]\tcv_agg's auc: 0.640352 + 0.00640624\n",
      "[190]\tcv_agg's auc: 0.641917 + 0.00639565\n",
      "[200]\tcv_agg's auc: 0.641943 + 0.00628801\n",
      "[210]\tcv_agg's auc: 0.64228 + 0.00623144\n",
      "[220]\tcv_agg's auc: 0.642325 + 0.00607297\n",
      "[230]\tcv_agg's auc: 0.64205 + 0.00602315\n",
      "[240]\tcv_agg's auc: 0.643051 + 0.00603636\n",
      "[250]\tcv_agg's auc: 0.642957 + 0.00613649\n",
      "[260]\tcv_agg's auc: 0.64381 + 0.00615075\n",
      "[270]\tcv_agg's auc: 0.643925 + 0.00605821\n",
      "[280]\tcv_agg's auc: 0.644681 + 0.00600959\n",
      "[290]\tcv_agg's auc: 0.644758 + 0.00590579\n",
      "[300]\tcv_agg's auc: 0.644752 + 0.0058537\n",
      "[310]\tcv_agg's auc: 0.645178 + 0.00591941\n",
      "[320]\tcv_agg's auc: 0.646291 + 0.00591288\n",
      "[330]\tcv_agg's auc: 0.646605 + 0.00594237\n",
      "[340]\tcv_agg's auc: 0.647714 + 0.00588214\n",
      "[350]\tcv_agg's auc: 0.647885 + 0.00591389\n",
      "[360]\tcv_agg's auc: 0.648087 + 0.00590482\n",
      "[370]\tcv_agg's auc: 0.648802 + 0.00580378\n",
      "[380]\tcv_agg's auc: 0.649357 + 0.00575541\n",
      "[390]\tcv_agg's auc: 0.649922 + 0.00578012\n",
      "[400]\tcv_agg's auc: 0.650041 + 0.00575789\n",
      "[410]\tcv_agg's auc: 0.650897 + 0.00572012\n",
      "[420]\tcv_agg's auc: 0.651551 + 0.00569763\n",
      "[430]\tcv_agg's auc: 0.651989 + 0.00556955\n",
      "[440]\tcv_agg's auc: 0.652536 + 0.005419\n",
      "[450]\tcv_agg's auc: 0.653011 + 0.0053621\n",
      "[460]\tcv_agg's auc: 0.653267 + 0.00535431\n",
      "[470]\tcv_agg's auc: 0.653609 + 0.00536731\n",
      "[480]\tcv_agg's auc: 0.653797 + 0.00535026\n",
      "[490]\tcv_agg's auc: 0.653867 + 0.00529589\n",
      "[500]\tcv_agg's auc: 0.653916 + 0.00525914\n",
      "[510]\tcv_agg's auc: 0.654225 + 0.00528507\n",
      "[520]\tcv_agg's auc: 0.654569 + 0.00524889\n",
      "[530]\tcv_agg's auc: 0.654773 + 0.00527244\n",
      "[540]\tcv_agg's auc: 0.65496 + 0.00521832\n",
      "[550]\tcv_agg's auc: 0.655019 + 0.00523062\n",
      "[560]\tcv_agg's auc: 0.655191 + 0.00520339\n",
      "[570]\tcv_agg's auc: 0.6557 + 0.00520675\n",
      "[580]\tcv_agg's auc: 0.65596 + 0.00518893\n",
      "[590]\tcv_agg's auc: 0.656234 + 0.00517104\n",
      "[600]\tcv_agg's auc: 0.656355 + 0.00517045\n",
      "[610]\tcv_agg's auc: 0.656543 + 0.00515439\n",
      "[620]\tcv_agg's auc: 0.65671 + 0.00506109\n",
      "[630]\tcv_agg's auc: 0.657027 + 0.00497636\n",
      "[640]\tcv_agg's auc: 0.657263 + 0.00489079\n",
      "[650]\tcv_agg's auc: 0.657392 + 0.00487176\n",
      "[660]\tcv_agg's auc: 0.657448 + 0.00485846\n",
      "[670]\tcv_agg's auc: 0.657709 + 0.00487161\n",
      "[680]\tcv_agg's auc: 0.658006 + 0.00487795\n",
      "[690]\tcv_agg's auc: 0.65822 + 0.00483865\n",
      "[700]\tcv_agg's auc: 0.65849 + 0.00481649\n",
      "[710]\tcv_agg's auc: 0.658488 + 0.00477862\n",
      "[720]\tcv_agg's auc: 0.658457 + 0.00474061\n",
      "[730]\tcv_agg's auc: 0.658509 + 0.00474687\n",
      "[740]\tcv_agg's auc: 0.658508 + 0.00474415\n",
      "[750]\tcv_agg's auc: 0.658795 + 0.00471857\n",
      "[760]\tcv_agg's auc: 0.658957 + 0.0046441\n",
      "[770]\tcv_agg's auc: 0.659047 + 0.00455901\n",
      "[780]\tcv_agg's auc: 0.65943 + 0.00453427\n",
      "[790]\tcv_agg's auc: 0.659647 + 0.0044866\n",
      "[800]\tcv_agg's auc: 0.659678 + 0.00445302\n",
      "[810]\tcv_agg's auc: 0.659875 + 0.00448318\n",
      "[820]\tcv_agg's auc: 0.660005 + 0.00447589\n",
      "[830]\tcv_agg's auc: 0.66006 + 0.00445794\n",
      "[840]\tcv_agg's auc: 0.66009 + 0.00438212\n",
      "[850]\tcv_agg's auc: 0.660099 + 0.00431925\n",
      "[860]\tcv_agg's auc: 0.660294 + 0.00429784\n",
      "[870]\tcv_agg's auc: 0.660358 + 0.00428175\n",
      "[880]\tcv_agg's auc: 0.660426 + 0.00425314\n",
      "[890]\tcv_agg's auc: 0.660432 + 0.00423364\n",
      "[900]\tcv_agg's auc: 0.660482 + 0.00418289\n",
      "[910]\tcv_agg's auc: 0.660568 + 0.00416299\n",
      "[920]\tcv_agg's auc: 0.660763 + 0.00414544\n",
      "[930]\tcv_agg's auc: 0.660741 + 0.00405366\n",
      "[940]\tcv_agg's auc: 0.660877 + 0.00403566\n",
      "[950]\tcv_agg's auc: 0.660891 + 0.00402069\n",
      "[960]\tcv_agg's auc: 0.660887 + 0.00402531\n",
      "[970]\tcv_agg's auc: 0.661131 + 0.00402159\n",
      "[980]\tcv_agg's auc: 0.661243 + 0.00402858\n",
      "[990]\tcv_agg's auc: 0.661243 + 0.00403668\n",
      "[1000]\tcv_agg's auc: 0.661238 + 0.00398924\n",
      "[1010]\tcv_agg's auc: 0.661292 + 0.00401011\n",
      "[1020]\tcv_agg's auc: 0.661292 + 0.00397752\n",
      "[1030]\tcv_agg's auc: 0.661387 + 0.00393903\n",
      "[1040]\tcv_agg's auc: 0.661523 + 0.00395719\n",
      "[1050]\tcv_agg's auc: 0.66154 + 0.00392635\n",
      "[1060]\tcv_agg's auc: 0.661649 + 0.00391967\n",
      "[1070]\tcv_agg's auc: 0.661808 + 0.00390934\n",
      "[1080]\tcv_agg's auc: 0.661872 + 0.00388797\n",
      "[1090]\tcv_agg's auc: 0.662003 + 0.00390709\n",
      "[1100]\tcv_agg's auc: 0.662055 + 0.00389134\n",
      "[1110]\tcv_agg's auc: 0.662107 + 0.00388717\n",
      "[1120]\tcv_agg's auc: 0.662081 + 0.00386588\n",
      "[1130]\tcv_agg's auc: 0.662124 + 0.00384017\n",
      "[1140]\tcv_agg's auc: 0.662105 + 0.00380754\n",
      "[1150]\tcv_agg's auc: 0.662172 + 0.00379946\n",
      "[1160]\tcv_agg's auc: 0.662207 + 0.00378055\n",
      "[1170]\tcv_agg's auc: 0.662313 + 0.00377371\n",
      "[1180]\tcv_agg's auc: 0.662377 + 0.00377211\n",
      "[1190]\tcv_agg's auc: 0.66247 + 0.0037519\n",
      "[1200]\tcv_agg's auc: 0.662529 + 0.00376118\n",
      "[1210]\tcv_agg's auc: 0.662532 + 0.00376115\n",
      "[1220]\tcv_agg's auc: 0.662624 + 0.00377656\n",
      "[1230]\tcv_agg's auc: 0.662666 + 0.00372455\n",
      "[1240]\tcv_agg's auc: 0.662733 + 0.00371189\n",
      "[1250]\tcv_agg's auc: 0.662793 + 0.00369751\n",
      "[1260]\tcv_agg's auc: 0.662843 + 0.00369674\n",
      "[1270]\tcv_agg's auc: 0.662892 + 0.00367276\n",
      "[1280]\tcv_agg's auc: 0.662918 + 0.0036609\n",
      "[1290]\tcv_agg's auc: 0.662933 + 0.00364912\n",
      "[1300]\tcv_agg's auc: 0.66301 + 0.00365736\n",
      "[1310]\tcv_agg's auc: 0.663052 + 0.00364293\n",
      "[1320]\tcv_agg's auc: 0.663083 + 0.00364734\n",
      "[1330]\tcv_agg's auc: 0.663124 + 0.00365743\n",
      "[1340]\tcv_agg's auc: 0.663169 + 0.00365961\n",
      "[1350]\tcv_agg's auc: 0.663211 + 0.00366776\n",
      "[1360]\tcv_agg's auc: 0.663243 + 0.00366829\n",
      "[1370]\tcv_agg's auc: 0.663264 + 0.00366403\n",
      "[1380]\tcv_agg's auc: 0.663329 + 0.00367209\n",
      "[1390]\tcv_agg's auc: 0.663363 + 0.00366261\n",
      "[1400]\tcv_agg's auc: 0.663451 + 0.00366097\n",
      "[1410]\tcv_agg's auc: 0.663478 + 0.00364057\n",
      "[1420]\tcv_agg's auc: 0.663548 + 0.00362997\n",
      "[1430]\tcv_agg's auc: 0.663602 + 0.0036131\n",
      "[1440]\tcv_agg's auc: 0.66361 + 0.0035702\n",
      "[1450]\tcv_agg's auc: 0.663639 + 0.00356317\n",
      "[1460]\tcv_agg's auc: 0.663693 + 0.00355257\n",
      "[1470]\tcv_agg's auc: 0.66367 + 0.0035664\n",
      "[1480]\tcv_agg's auc: 0.663724 + 0.00356455\n",
      "[1490]\tcv_agg's auc: 0.663738 + 0.00354065\n",
      "[1500]\tcv_agg's auc: 0.663765 + 0.00353583\n",
      "[1510]\tcv_agg's auc: 0.663784 + 0.003523\n",
      "[1520]\tcv_agg's auc: 0.66384 + 0.00352267\n",
      "[1530]\tcv_agg's auc: 0.663882 + 0.00352852\n",
      "[1540]\tcv_agg's auc: 0.663853 + 0.00351592\n",
      "[1550]\tcv_agg's auc: 0.663879 + 0.00350455\n",
      "[1560]\tcv_agg's auc: 0.663949 + 0.00349639\n",
      "[1570]\tcv_agg's auc: 0.663984 + 0.00348711\n",
      "[1580]\tcv_agg's auc: 0.663992 + 0.00347162\n",
      "[1590]\tcv_agg's auc: 0.664095 + 0.00347021\n",
      "[1600]\tcv_agg's auc: 0.664144 + 0.00345386\n",
      "[1610]\tcv_agg's auc: 0.664179 + 0.0034493\n",
      "[1620]\tcv_agg's auc: 0.66414 + 0.00344763\n",
      "[1630]\tcv_agg's auc: 0.664201 + 0.0034558\n",
      "[1640]\tcv_agg's auc: 0.664174 + 0.00344263\n",
      "[1650]\tcv_agg's auc: 0.664206 + 0.00344771\n",
      "[1660]\tcv_agg's auc: 0.664238 + 0.00344585\n",
      "[1670]\tcv_agg's auc: 0.66427 + 0.00344483\n",
      "[1680]\tcv_agg's auc: 0.664296 + 0.00343354\n",
      "[1690]\tcv_agg's auc: 0.66428 + 0.00343345\n",
      "[1700]\tcv_agg's auc: 0.664219 + 0.00340425\n",
      "[1710]\tcv_agg's auc: 0.664263 + 0.00341405\n",
      "[1720]\tcv_agg's auc: 0.66434 + 0.00341675\n",
      "[1730]\tcv_agg's auc: 0.664416 + 0.00339466\n",
      "[1740]\tcv_agg's auc: 0.664426 + 0.00339361\n",
      "[1750]\tcv_agg's auc: 0.664467 + 0.0034016\n",
      "[1760]\tcv_agg's auc: 0.664555 + 0.00340298\n",
      "[1770]\tcv_agg's auc: 0.664524 + 0.00339403\n",
      "[1780]\tcv_agg's auc: 0.664544 + 0.0033894\n",
      "[1790]\tcv_agg's auc: 0.664605 + 0.0033951\n",
      "[1800]\tcv_agg's auc: 0.664615 + 0.0033981\n",
      "[1810]\tcv_agg's auc: 0.664663 + 0.00338748\n",
      "[1820]\tcv_agg's auc: 0.664736 + 0.00338186\n",
      "[1830]\tcv_agg's auc: 0.664754 + 0.00337915\n",
      "[1840]\tcv_agg's auc: 0.66482 + 0.00337832\n",
      "[1850]\tcv_agg's auc: 0.66482 + 0.00334665\n",
      "[1860]\tcv_agg's auc: 0.664727 + 0.00335587\n",
      "[1870]\tcv_agg's auc: 0.664681 + 0.00336428\n",
      "[1880]\tcv_agg's auc: 0.664727 + 0.0033525\n",
      "[1890]\tcv_agg's auc: 0.664717 + 0.00335023\n",
      "[1900]\tcv_agg's auc: 0.664706 + 0.00333656\n",
      "[1910]\tcv_agg's auc: 0.664736 + 0.00334782\n",
      "[1920]\tcv_agg's auc: 0.664759 + 0.0033488\n",
      "[1930]\tcv_agg's auc: 0.664762 + 0.00333968\n",
      "[1940]\tcv_agg's auc: 0.664785 + 0.00333126\n",
      "[1950]\tcv_agg's auc: 0.6648 + 0.00333302\n"
     ]
    },
    {
     "name": "stdout",
     "output_type": "stream",
     "text": [
      "[1960]\tcv_agg's auc: 0.664773 + 0.0033179\n",
      "[1970]\tcv_agg's auc: 0.664761 + 0.00331266\n",
      "[1980]\tcv_agg's auc: 0.664724 + 0.00330851\n",
      "[1990]\tcv_agg's auc: 0.664748 + 0.0033057\n",
      "[2000]\tcv_agg's auc: 0.664799 + 0.00330867\n",
      "[2010]\tcv_agg's auc: 0.664802 + 0.00330446\n",
      "[2020]\tcv_agg's auc: 0.664835 + 0.00330641\n",
      "[2030]\tcv_agg's auc: 0.664856 + 0.00330803\n",
      "[2040]\tcv_agg's auc: 0.664845 + 0.00330893\n",
      "[2050]\tcv_agg's auc: 0.664864 + 0.00331928\n",
      "[2060]\tcv_agg's auc: 0.66491 + 0.00331763\n",
      "[2070]\tcv_agg's auc: 0.664925 + 0.00332388\n",
      "[2080]\tcv_agg's auc: 0.664981 + 0.00332788\n",
      "[2090]\tcv_agg's auc: 0.664966 + 0.00332582\n",
      "[2100]\tcv_agg's auc: 0.664937 + 0.00332621\n",
      "[2110]\tcv_agg's auc: 0.66494 + 0.00332399\n",
      "[2120]\tcv_agg's auc: 0.664963 + 0.00331561\n",
      "[2130]\tcv_agg's auc: 0.664994 + 0.00330857\n",
      "[2140]\tcv_agg's auc: 0.664983 + 0.00331539\n",
      "[2150]\tcv_agg's auc: 0.665009 + 0.00331831\n",
      "[2160]\tcv_agg's auc: 0.665015 + 0.00332094\n",
      "[2170]\tcv_agg's auc: 0.665022 + 0.00330981\n",
      "[2180]\tcv_agg's auc: 0.664962 + 0.00330881\n",
      "[2190]\tcv_agg's auc: 0.665004 + 0.00330347\n",
      "[2200]\tcv_agg's auc: 0.664992 + 0.00330457\n",
      "[2210]\tcv_agg's auc: 0.665047 + 0.00330918\n",
      "[2220]\tcv_agg's auc: 0.665011 + 0.00331356\n",
      "[2230]\tcv_agg's auc: 0.665019 + 0.00330232\n",
      "[2240]\tcv_agg's auc: 0.664971 + 0.00328809\n",
      "[2250]\tcv_agg's auc: 0.664988 + 0.00328293\n",
      "[2260]\tcv_agg's auc: 0.664949 + 0.00329035\n",
      "[2270]\tcv_agg's auc: 0.664962 + 0.0032951\n",
      "[2280]\tcv_agg's auc: 0.664954 + 0.00330021\n",
      "[2290]\tcv_agg's auc: 0.664965 + 0.00330017\n",
      "[2300]\tcv_agg's auc: 0.664934 + 0.00330225\n",
      "[2310]\tcv_agg's auc: 0.664944 + 0.00330016\n",
      "[2320]\tcv_agg's auc: 0.66495 + 0.00330233\n",
      "[2330]\tcv_agg's auc: 0.664934 + 0.00330297\n",
      "[2340]\tcv_agg's auc: 0.664916 + 0.00330855\n",
      "[2350]\tcv_agg's auc: 0.66494 + 0.00329934\n",
      "[2360]\tcv_agg's auc: 0.664931 + 0.00330548\n",
      "[2370]\tcv_agg's auc: 0.664966 + 0.00331667\n",
      "[2380]\tcv_agg's auc: 0.664965 + 0.00331623\n",
      "[2390]\tcv_agg's auc: 0.664973 + 0.00331797\n",
      "[2400]\tcv_agg's auc: 0.664963 + 0.00330981\n",
      "[2410]\tcv_agg's auc: 0.664935 + 0.00331478\n",
      "[2420]\tcv_agg's auc: 0.664956 + 0.00330902\n",
      "[2430]\tcv_agg's auc: 0.664961 + 0.00330492\n",
      "[2440]\tcv_agg's auc: 0.664974 + 0.00331142\n",
      "[2450]\tcv_agg's auc: 0.664974 + 0.00331453\n",
      "[2460]\tcv_agg's auc: 0.66498 + 0.00331122\n",
      "[2470]\tcv_agg's auc: 0.664976 + 0.00330377\n",
      "[2480]\tcv_agg's auc: 0.664996 + 0.00332112\n",
      "[2490]\tcv_agg's auc: 0.665049 + 0.00333014\n",
      "[2500]\tcv_agg's auc: 0.665029 + 0.00332963\n",
      "[2510]\tcv_agg's auc: 0.665018 + 0.00331995\n",
      "[2520]\tcv_agg's auc: 0.665042 + 0.0033188\n",
      "[2530]\tcv_agg's auc: 0.665033 + 0.00332101\n",
      "[2540]\tcv_agg's auc: 0.665041 + 0.00330039\n",
      "[2550]\tcv_agg's auc: 0.66508 + 0.00330242\n",
      "[2560]\tcv_agg's auc: 0.665063 + 0.00330892\n",
      "[2570]\tcv_agg's auc: 0.665027 + 0.00330125\n",
      "[2580]\tcv_agg's auc: 0.665021 + 0.00331056\n",
      "[2590]\tcv_agg's auc: 0.665029 + 0.00332167\n",
      "[2600]\tcv_agg's auc: 0.665035 + 0.00332448\n",
      "[2610]\tcv_agg's auc: 0.665013 + 0.00332837\n",
      "[2620]\tcv_agg's auc: 0.664979 + 0.00333478\n",
      "[2630]\tcv_agg's auc: 0.664947 + 0.00332897\n",
      "[2640]\tcv_agg's auc: 0.66495 + 0.00332836\n",
      "[2650]\tcv_agg's auc: 0.664939 + 0.00333042\n",
      "[2660]\tcv_agg's auc: 0.664975 + 0.00332484\n",
      "[2670]\tcv_agg's auc: 0.664961 + 0.00334021\n",
      "[2680]\tcv_agg's auc: 0.664984 + 0.0033449\n",
      "[2690]\tcv_agg's auc: 0.664939 + 0.0033522\n",
      "[2700]\tcv_agg's auc: 0.664974 + 0.00333814\n",
      "[2710]\tcv_agg's auc: 0.664984 + 0.00333429\n",
      "[2720]\tcv_agg's auc: 0.664944 + 0.00332359\n",
      "[2730]\tcv_agg's auc: 0.664942 + 0.00332794\n",
      "[2740]\tcv_agg's auc: 0.664892 + 0.00332566\n",
      "[2750]\tcv_agg's auc: 0.66492 + 0.00332403\n",
      "[2760]\tcv_agg's auc: 0.664905 + 0.00333757\n",
      "[2770]\tcv_agg's auc: 0.664891 + 0.00335441\n",
      "[2780]\tcv_agg's auc: 0.664894 + 0.00334601\n",
      "[2790]\tcv_agg's auc: 0.6649 + 0.00334407\n",
      "[2800]\tcv_agg's auc: 0.66487 + 0.00333575\n",
      "[2810]\tcv_agg's auc: 0.66491 + 0.00333521\n",
      "[2820]\tcv_agg's auc: 0.664901 + 0.00334726\n",
      "[2830]\tcv_agg's auc: 0.664904 + 0.0033493\n",
      "[2840]\tcv_agg's auc: 0.664871 + 0.00335674\n",
      "[2850]\tcv_agg's auc: 0.664859 + 0.00336282\n",
      "[2860]\tcv_agg's auc: 0.664876 + 0.00336721\n",
      "[2870]\tcv_agg's auc: 0.664888 + 0.00336351\n",
      "[2880]\tcv_agg's auc: 0.664917 + 0.00336411\n",
      "[2890]\tcv_agg's auc: 0.664905 + 0.0033757\n",
      "[2900]\tcv_agg's auc: 0.664855 + 0.00339057\n",
      "[2910]\tcv_agg's auc: 0.664867 + 0.00339705\n",
      "[2920]\tcv_agg's auc: 0.664881 + 0.00339363\n",
      "[2930]\tcv_agg's auc: 0.664914 + 0.00338935\n",
      "[2940]\tcv_agg's auc: 0.664893 + 0.00339125\n",
      "[2950]\tcv_agg's auc: 0.664874 + 0.00340532\n",
      "[2960]\tcv_agg's auc: 0.664864 + 0.00342287\n",
      "[2970]\tcv_agg's auc: 0.66488 + 0.00342496\n",
      "[2980]\tcv_agg's auc: 0.664874 + 0.00342463\n",
      "[2990]\tcv_agg's auc: 0.664862 + 0.00341812\n",
      "[3000]\tcv_agg's auc: 0.664855 + 0.00341417\n",
      "[3010]\tcv_agg's auc: 0.664864 + 0.00342024\n",
      "[3020]\tcv_agg's auc: 0.664883 + 0.0034147\n",
      "[3030]\tcv_agg's auc: 0.664895 + 0.00341511\n",
      "[3040]\tcv_agg's auc: 0.66488 + 0.00342189\n",
      "[3050]\tcv_agg's auc: 0.664892 + 0.00342012\n",
      "[3060]\tcv_agg's auc: 0.664902 + 0.00340889\n",
      "[3070]\tcv_agg's auc: 0.664916 + 0.00341095\n",
      "[3080]\tcv_agg's auc: 0.664899 + 0.00341522\n",
      "[3090]\tcv_agg's auc: 0.66492 + 0.00341496\n",
      "[3100]\tcv_agg's auc: 0.664919 + 0.0034113\n",
      "[3110]\tcv_agg's auc: 0.664886 + 0.00342744\n",
      "[3120]\tcv_agg's auc: 0.664893 + 0.00343343\n",
      "[3130]\tcv_agg's auc: 0.664837 + 0.00345441\n",
      "[3140]\tcv_agg's auc: 0.664827 + 0.00345727\n",
      "[3150]\tcv_agg's auc: 0.664827 + 0.00345655\n"
     ]
    }
   ],
   "source": [
    "# cv after tuning\n",
    "params={'min_sum_hessian_in_leaf': 8, 'min_data_in_leaf': 271, 'num_leaves': 15, 'subsample': 0.7048447140911623, 'colsample_bytree': 0.07705695255307703, 'learning_rate': 0.01026179500484753, 'silent': 1, 'verbose_eval': True, 'objective': 'binary', 'device': 'cpu', 'boosting': 'gbdt', 'max_depth': 4, 'bagging_freq': 2, 'metric': 'auc', 'boost_from_average': False}\n",
    "lgtrain = lgb.Dataset(X, label=Y,categorical_feature=catcols)\n",
    "cv = lgb.cv(params,\n",
    "                lgtrain,\n",
    "                nfold=5,metrics='auc',\n",
    "                num_boost_round=15000,\n",
    "                early_stopping_rounds=600,stratified=True,verbose_eval=10,folds=skf.split(X,Y))"
   ]
  },
  {
   "cell_type": "code",
   "execution_count": 16,
   "metadata": {},
   "outputs": [
    {
     "data": {
      "text/plain": [
       "0.6650803499828634"
      ]
     },
     "execution_count": 16,
     "metadata": {},
     "output_type": "execute_result"
    }
   ],
   "source": [
    "cv['auc-mean'][-1]"
   ]
  },
  {
   "cell_type": "code",
   "execution_count": 17,
   "metadata": {},
   "outputs": [],
   "source": [
    "# # Hyperparameter tuning\n",
    "# param_dict={}\n",
    "# space = {'max_depth': hp.choice('max_depth', np.arange(-1, 10,dtype=int)),\n",
    "#          'min_data_in_leaf': hp.choice('min_data_in_leaf', np.arange(10, 400,dtype=int)),\n",
    "#          'min_sum_hessian_in_leaf': hp.choice('min_sum_hessian_in_leaf', np.arange(0, 15,dtype=int)),\n",
    "#          'num_leaves': hp.choice('num_leaves', np.arange(2, 20, dtype=int)),\n",
    "#          'bagging_freq': hp.choice('bagging_freq', np.arange(1, 20, dtype=int)),\n",
    "#          'subsample': hp.uniform('subsample', 0, 1),\n",
    "#          'colsample_bytree': hp.uniform('colsample_bytree', 0, 1),\n",
    "#         'learning_rate': hp.uniform('learning_rate', 0.01, 0.2),\n",
    "#         }\n",
    "\n",
    "\n",
    "# def objective(space):\n",
    "#     params = {\n",
    "#         'min_sum_hessian_in_leaf': space['min_sum_hessian_in_leaf'],\n",
    "#         'min_data_in_leaf':space['min_data_in_leaf'],\n",
    "#             'num_leaves':space['num_leaves'],\n",
    "#              'subsample': space['subsample'],\n",
    "#             'colsample_bytree': space['colsample_bytree'],\n",
    "#             'learning_rate':space['learning_rate'],\n",
    "#             'silent': 1,\n",
    "#             'verbose_eval': True,\n",
    "#             \"objective\":\"binary\",\n",
    "#         'device':'cpu',\n",
    "#         \"boosting\":\"gbdt\",\n",
    "#         'max_depth':space['max_depth'],\n",
    "#         'bagging_freq':space['bagging_freq'],\n",
    "#           'metric':\"auc\",\n",
    "#     'boost_from_average':False,\n",
    "#     }\n",
    "#     skf = TimeSeriesSplit(n_splits=5)\n",
    "#     lgtrain = lgb.Dataset(X, label=Y,categorical_feature=catcols)\n",
    "#     cv = lgb.cv(params,\n",
    "#                 lgtrain,\n",
    "#                 nfold=5,metrics='auc',\n",
    "#                 num_boost_round=20000,\n",
    "#                 early_stopping_rounds=600,stratified=True,verbose_eval=10,folds=skf.split(X,Y))\n",
    "#     au = (cv['auc-mean'][-1])\n",
    "#     params['n_estimators']=len(cv['auc-mean'])\n",
    "#     param_dict[au]=params\n",
    "#     pickle.dump(param_dict,open('params','wb'))\n",
    "#     print(params, file=open(\"output_lgb.txt\", \"a\"))\n",
    "#     print(params)\n",
    "#     print('max='+str(max(param_dict.keys())))\n",
    "#     print ('auc = ', au)\n",
    "#     print(au, file=open(\"output_lgb.txt\", \"a\"))\n",
    "#     return{'loss': -au, 'status': STATUS_OK}\n",
    "\n",
    "\n",
    "# trials = Trials()\n",
    "# best = hyperopt.fmin(fn=objective,\n",
    "#             space=space,\n",
    "#             algo=tpe.suggest,\n",
    "#             max_evals=10000,\n",
    "#             trials=trials\n",
    "#             )\n",
    "\n",
    "# print(best)\n",
    "\n",
    "# fName = open('trials.pkl', 'w')\n",
    "# pickle.dump(trials, fName)\n",
    "# fName.close()"
   ]
  },
  {
   "cell_type": "code",
   "execution_count": 18,
   "metadata": {},
   "outputs": [
    {
     "data": {
      "text/plain": [
       "3187.5"
      ]
     },
     "execution_count": 18,
     "metadata": {},
     "output_type": "execute_result"
    }
   ],
   "source": [
    "len(cv['auc-mean'])/0.8"
   ]
  },
  {
   "cell_type": "code",
   "execution_count": 19,
   "metadata": {},
   "outputs": [
    {
     "name": "stderr",
     "output_type": "stream",
     "text": [
      "/home/Mahir/anaconda3/lib/python3.7/site-packages/lightgbm/basic.py:1205: UserWarning: Using categorical_feature in Dataset.\n",
      "  warnings.warn('Using categorical_feature in Dataset.')\n",
      "/home/Mahir/anaconda3/lib/python3.7/site-packages/lightgbm/basic.py:741: UserWarning: silent keyword has been found in `params` and will be ignored.\n",
      "Please use silent argument of the Dataset constructor to pass this parameter.\n",
      "  .format(key))\n"
     ]
    }
   ],
   "source": [
    "# model training\n",
    "lgtrain = lgb.Dataset(X, label=Y,categorical_feature=catcols)\n",
    "model=lgb.train(params,lgtrain,3188,verbose_eval=10)"
   ]
  },
  {
   "cell_type": "code",
   "execution_count": 20,
   "metadata": {},
   "outputs": [
    {
     "data": {
      "text/plain": [
       "<matplotlib.axes._subplots.AxesSubplot at 0x7feee75976d8>"
      ]
     },
     "execution_count": 20,
     "metadata": {},
     "output_type": "execute_result"
    },
    {
     "data": {
      "image/png": "[encoded data removed]",
      "text/plain": [
       "<Figure size 1296x1080 with 1 Axes>"
      ]
     },
     "metadata": {
      "needs_background": "light"
     },
     "output_type": "display_data"
    }
   ],
   "source": [
    "# feature importance\n",
    "matplotlib.rcParams['figure.figsize'] = (18.0, 15.0)\n",
    "lgb.plot_importance(model)"
   ]
  },
  {
   "cell_type": "code",
   "execution_count": 21,
   "metadata": {},
   "outputs": [],
   "source": [
    "# test data reading n feature engineering\n",
    "test=pd.read_csv('test_bqCt9Pv.csv')\n",
    "test['Employment.Type']=test['Employment.Type'].fillna('nan')\n",
    "test['Employment.Type']=lb.transform(test['Employment.Type'])\n",
    "test['avgaccage']=test['AVERAGE.ACCT.AGE'].apply(clean_df)\n",
    "test['credhistlength']=test['CREDIT.HISTORY.LENGTH'].apply(clean_df)\n",
    "test['Date.of.Birth']=pd.to_datetime(test['Date.of.Birth'])\n",
    "test['DisbursalDate']=pd.to_datetime(test['DisbursalDate'])\n",
    "test['Age']=abs(test['DisbursalDate'].dt.year-test['Date.of.Birth'].dt.year)\n",
    "test['ratio2']=test['PRI.DISBURSED.AMOUNT']/test['PRI.SANCTIONED.AMOUNT']\n",
    "test['ratio3']=test['SEC.DISBURSED.AMOUNT']/test['SEC.SANCTIONED.AMOUNT']\n",
    "test['sanctioned']=(test['ltv']/100)*test['asset_cost']\n",
    "test['ratio1']=test['disbursed_amount']/test['sanctioned']\n",
    "test['ratio4']=test['PRI.OVERDUE.ACCTS']/test['PRI.NO.OF.ACCTS']\n",
    "test['ratio5']=test['PRI.ACTIVE.ACCTS']/test['PRI.NO.OF.ACCTS']\n",
    "test['ratio6']=test['PRI.CURRENT.BALANCE']/test['PRI.DISBURSED.AMOUNT']\n",
    "test['ratio7']=test['PRIMARY.INSTAL.AMT']/test['PRI.DISBURSED.AMOUNT']\n",
    "test['dayofbirth']=test['Date.of.Birth'].dt.day\n",
    "test['monthofbirth']=test['Date.of.Birth'].dt.month\n",
    "errorindob1=[]\n",
    "for i in range(test.shape[0]):\n",
    "    if test['dayofbirth'][i]==1 and test['monthofbirth'][i]==1:\n",
    "        errorindob1.append(1)\n",
    "    else:\n",
    "        errorindob1.append(0)\n",
    "test['errorindob']=errorindob1\n",
    "train['ratio1']=train['disbursed_amount']/train['sanctioned']\n",
    "train['ratio2']=train['PRI.DISBURSED.AMOUNT']/train['PRI.SANCTIONED.AMOUNT']\n",
    "train['ratio3']=train['SEC.DISBURSED.AMOUNT']/train['SEC.SANCTIONED.AMOUNT']\n",
    "train['ratio4']=train['PRI.OVERDUE.ACCTS']/train['PRI.NO.OF.ACCTS']\n",
    "train['ratio5']=train['PRI.ACTIVE.ACCTS']/train['PRI.NO.OF.ACCTS']\n",
    "train['ratio6']=train['PRI.CURRENT.BALANCE']/train['PRI.DISBURSED.AMOUNT']\n",
    "train['ratio7']=train['PRIMARY.INSTAL.AMT']/train['PRI.DISBURSED.AMOUNT']"
   ]
  },
  {
   "cell_type": "code",
   "execution_count": 22,
   "metadata": {},
   "outputs": [
    {
     "name": "stderr",
     "output_type": "stream",
     "text": [
      "/home/Mahir/anaconda3/lib/python3.7/site-packages/pandas/core/frame.py:6211: FutureWarning: Sorting because non-concatenation axis is not aligned. A future version\n",
      "of pandas will change to not sort by default.\n",
      "\n",
      "To accept the future behavior, pass 'sort=False'.\n",
      "\n",
      "To retain the current behavior and silence the warning, pass 'sort=True'.\n",
      "\n",
      "  sort=sort)\n"
     ]
    }
   ],
   "source": [
    "# groupby features\n",
    "merg=train.append(test)\n",
    "dfff=merg.groupby(['Current_pincode_ID','State_ID'])['PERFORM_CNS.SCORE'].agg(['mean','count']).reset_index()\n",
    "tess=test.merge(dfff,on=['Current_pincode_ID','State_ID'],how='left')\n",
    "ltvff=merg.groupby(['Current_pincode_ID','State_ID'])['ratio1'].agg(['mean']).reset_index()\n",
    "ltvff.columns=['Current_pincode_ID','State_ID','mean_ratio1']\n",
    "tesss=tess.merge(ltvff,on=['Current_pincode_ID','State_ID'],how='left')"
   ]
  },
  {
   "cell_type": "code",
   "execution_count": 23,
   "metadata": {},
   "outputs": [],
   "source": [
    "# ordinal encoding\n",
    "tesss['PERFORM_CNS.SCORE.DESCRIPTION']=[mydict[x] for x in tesss['PERFORM_CNS.SCORE.DESCRIPTION']]"
   ]
  },
  {
   "cell_type": "code",
   "execution_count": 24,
   "metadata": {},
   "outputs": [],
   "source": [
    "testt=tesss[['disbursed_amount', 'asset_cost', 'ltv','PERFORM_CNS.SCORE','Current_pincode_ID','State_ID','Aadhar_flag','MobileNo_Avl_Flag','PAN_flag','VoterID_flag','Driving_flag','PRI.NO.OF.ACCTS', 'PRI.ACTIVE.ACCTS',\n",
    "       'PRI.OVERDUE.ACCTS', 'PRI.CURRENT.BALANCE', 'PRI.SANCTIONED.AMOUNT',\n",
    "       'PRI.DISBURSED.AMOUNT', 'SEC.NO.OF.ACCTS', 'SEC.ACTIVE.ACCTS',\n",
    "       'SEC.OVERDUE.ACCTS', 'SEC.CURRENT.BALANCE', 'SEC.SANCTIONED.AMOUNT',\n",
    "       'SEC.DISBURSED.AMOUNT', 'PRIMARY.INSTAL.AMT', 'SEC.INSTAL.AMT',\n",
    "       'NEW.ACCTS.IN.LAST.SIX.MONTHS', 'DELINQUENT.ACCTS.IN.LAST.SIX.MONTHS','branch_id',\n",
    "       'supplier_id', 'manufacturer_id','NO.OF_INQUIRIES','Employment.Type','Employee_code_ID','avgaccage','credhistlength','Age','ratio2','ratio3','ratio1','ratio4','ratio5','mean','count','PERFORM_CNS.SCORE.DESCRIPTION','ratio6','ratio7','mean_ratio1','errorindob']]"
   ]
  },
  {
   "cell_type": "code",
   "execution_count": 25,
   "metadata": {},
   "outputs": [],
   "source": [
    "# take out ids\n",
    "ids=tesss['UniqueID']"
   ]
  },
  {
   "cell_type": "code",
   "execution_count": 26,
   "metadata": {},
   "outputs": [
    {
     "data": {
      "text/plain": [
       "(112392, 48)"
      ]
     },
     "execution_count": 26,
     "metadata": {},
     "output_type": "execute_result"
    }
   ],
   "source": [
    "testt.shape"
   ]
  },
  {
   "cell_type": "code",
   "execution_count": 27,
   "metadata": {},
   "outputs": [
    {
     "data": {
      "text/plain": [
       "(233154, 48)"
      ]
     },
     "execution_count": 27,
     "metadata": {},
     "output_type": "execute_result"
    }
   ],
   "source": [
    "X.shape"
   ]
  },
  {
   "cell_type": "code",
   "execution_count": 28,
   "metadata": {},
   "outputs": [
    {
     "data": {
      "text/plain": [
       "(112392, 54)"
      ]
     },
     "execution_count": 28,
     "metadata": {},
     "output_type": "execute_result"
    }
   ],
   "source": [
    "test.shape"
   ]
  },
  {
   "cell_type": "code",
   "execution_count": 29,
   "metadata": {},
   "outputs": [],
   "source": [
    "preds=model.predict(testt)"
   ]
  },
  {
   "cell_type": "code",
   "execution_count": 30,
   "metadata": {},
   "outputs": [],
   "source": [
    "op=pd.DataFrame()\n",
    "op['UniqueID']=ids\n",
    "op['loan_default']=preds"
   ]
  },
  {
   "cell_type": "code",
   "execution_count": 31,
   "metadata": {},
   "outputs": [],
   "source": [
    "op.to_csv('ltfs.csv',index=False)"
   ]
  },
  {
   "cell_type": "code",
   "execution_count": 32,
   "metadata": {},
   "outputs": [],
   "source": [
    "# op"
   ]
  }
 ],
 "metadata": {
  "kernelspec": {
   "display_name": "Python 3",
   "language": "python",
   "name": "python3"
  },
  "language_info": {
   "codemirror_mode": {
    "name": "ipython",
    "version": 3
   },
   "file_extension": ".py",
   "mimetype": "text/x-python",
   "name": "python",
   "nbconvert_exporter": "python",
   "pygments_lexer": "ipython3",
   "version": "3.7.1"
  }
 },
 "nbformat": 4,
 "nbformat_minor": 2
}
